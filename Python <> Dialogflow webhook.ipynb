{
 "cells": [
  {
   "cell_type": "code",
   "execution_count": 1,
   "metadata": {
    "collapsed": true
   },
   "outputs": [],
   "source": [
    "import apiai\n",
    "import json\n",
    "from flask import Flask\n",
    "import time\n",
    "from flask import request\n",
    "from flask import make_response\n",
    "import pandas as pd\n",
    "import numpy as np\n",
    "import datetime\n",
    "from google.cloud import datastore\n",
    "from google.auth._default import _load_credentials_from_file\n",
    "from google.oauth2 import service_account"
   ]
  },
  {
   "cell_type": "code",
   "execution_count": 6,
   "metadata": {},
   "outputs": [
    {
     "name": "stdout",
     "output_type": "stream",
     "text": [
      "2018-10-15 10:44:57.360525\n"
     ]
    }
   ],
   "source": [
    "currentDT = datetime.datetime.now()\n",
    "print (str(currentDT))\n"
   ]
  },
  {
   "cell_type": "code",
   "execution_count": 11,
   "metadata": {
    "collapsed": true
   },
   "outputs": [],
   "source": [
    "def webpass():\n",
    "    ai = apiai.ApiAI(CLIENT_ACCESS_TOKEN)\n",
    "    request = ai.text_request()\n",
    "    response = json.loads(request.getresponse().read().decode('utf-8'))\n",
    "    #message = ['queryResult']['outputContexts'][0]['parameters']['trueUsername']\n",
    "    print (response)\n",
    "\n"
   ]
  },
  {
   "cell_type": "code",
   "execution_count": 17,
   "metadata": {
    "collapsed": true
   },
   "outputs": [],
   "source": [
    "def webhook():\n",
    "    ai = apiai.ApiAI(CLIENT_ACCESS_TOKEN)\n",
    "    req = request.get_json(silent=True, force=True)\n",
    "    print(\"Request:\")\n",
    "    print(json.dumps(req, indent=4))\n",
    "\n",
    "    res = processRequest(req)\n",
    "\n",
    "    res = json.dumps(res, indent=4)\n",
    "    print(res)\n",
    "    r = make_response(res)\n",
    "    r.headers['Content-Type'] = 'application/json'\n",
    "    return r"
   ]
  },
  {
   "cell_type": "code",
   "execution_count": 18,
   "metadata": {
    "collapsed": true
   },
   "outputs": [],
   "source": [
    "if __name__ == '__webhook__':\n",
    "    webhook()"
   ]
  },
  {
   "cell_type": "code",
   "execution_count": 8,
   "metadata": {
    "collapsed": true
   },
   "outputs": [],
   "source": [
    "resp = {\n",
    "    \"responseId\": \"d8165999-9e9a-4f28-8835-97fdbf90dcf2\",\n",
    "    \"queryResult\": {\n",
    "        \"queryText\": \"Yes\",\n",
    "        \"action\": \"personalloan-questions.personalloan-questions-custom.personalloan-questions-singaporean-custom\",\n",
    "        \"parameters\": {},\n",
    "        \"allRequiredParamsPresent\": True,\n",
    "        \"fulfillmentMessages\": [\n",
    "            {\n",
    "                \"text\": {\n",
    "                    \"text\": [\n",
    "                        \"Perfect, thanks for all your information, I've found the best personal loan that fits your requirement and eligibility.\"\n",
    "                    ]\n",
    "                },\n",
    "                \"platform\": \"FACEBOOK\"\n",
    "            },\n",
    "            {\n",
    "                \"card\": {\n",
    "                    \"title\": \"HSBC Personal Loan\",\n",
    "                    \"subtitle\": \"Interest rate: Fixed rate of 4.8% – 9.5% per annum\",\n",
    "                    \"imageUri\": \"https://www.famouslogos.net/images/hsbc-logo.jpg\",\n",
    "                    \"buttons\": [\n",
    "                        {\n",
    "                            \"text\": \"Find Out More\",\n",
    "                            \"postback\": \"https://www.imoney.sg/personal-loan/hsbc/hsbc-personal-loan\"\n",
    "                        },\n",
    "                        {\n",
    "                            \"text\": \"Apply Now\",\n",
    "                            \"postback\": \"http://imoney.rurl.me/HSBCPL01\"\n",
    "                        },\n",
    "                        {\n",
    "                            \"text\": \"More Personal Loans\",\n",
    "                            \"postback\": \"https://www.imoney.sg/personal-loan\"\n",
    "                        }\n",
    "                    ]\n",
    "                },\n",
    "                \"platform\": \"FACEBOOK\"\n",
    "            },\n",
    "            {\n",
    "                \"card\": {\n",
    "                    \"title\": \"HSBC Debt Consolidation Plan\",\n",
    "                    \"subtitle\": \"Interest rate:\\tFlat rate of 4.0% – 5.7% per annum\",\n",
    "                    \"imageUri\": \"https://www.famouslogos.net/images/hsbc-logo.jpg\",\n",
    "                    \"buttons\": [\n",
    "                        {\n",
    "                            \"text\": \"Find Out More\",\n",
    "                            \"postback\": \"https://www.imoney.sg/personal-loan/hsbc/hsbc-debt-consolidation-plan\"\n",
    "                        },\n",
    "                        {\n",
    "                            \"text\": \"Apply Now\",\n",
    "                            \"postback\": \"http://imoney.rurl.me/GDBtrB\"\n",
    "                        },\n",
    "                        {\n",
    "                            \"text\": \"More Personal Loans\",\n",
    "                            \"postback\": \"https://www.imoney.sg/personal-loan\"\n",
    "                        }\n",
    "                    ]\n",
    "                },\n",
    "                \"platform\": \"FACEBOOK\"\n",
    "            },\n",
    "            {\n",
    "                \"card\": {\n",
    "                    \"title\": \"Citibank Ready Credit PayLite\",\n",
    "                    \"subtitle\": \"Interest rate:\\tFixed rate of 4.55% - 5.79% per annum\",\n",
    "                    \"imageUri\": \"https://www.imoney.sg/sites/www.imoney.sg/files/Citi_1.png\",\n",
    "                    \"buttons\": [\n",
    "                        {\n",
    "                            \"text\": \"Find Out More\",\n",
    "                            \"postback\": \"https://www.imoney.sg/personal-loan/citibank/ready-credit-smartcash-paylite\"\n",
    "                        },\n",
    "                        {\n",
    "                            \"text\": \"Apply Now\",\n",
    "                            \"postback\": \"https://goo.gl/JNU3oA\"\n",
    "                        },\n",
    "                        {\n",
    "                            \"text\": \"More Personal Loans\",\n",
    "                            \"postback\": \"https://www.imoney.sg/personal-loan\"\n",
    "                        }\n",
    "                    ]\n",
    "                },\n",
    "                \"platform\": \"FACEBOOK\"\n",
    "            },\n",
    "            {\n",
    "                \"text\": {\n",
    "                    \"text\": [\n",
    "                        \"\"\n",
    "                    ]\n",
    "                }\n",
    "            }\n",
    "        ],\n",
    "        \"outputContexts\": [\n",
    "            {\n",
    "                \"name\": \"projects/singapore-ea8de/agent/sessions/b1d2e853-6186-4101-9f77-ad835d6e9493/contexts/salaryno2500\",\n",
    "                \"parameters\": {\n",
    "                    \"residentialstatus1.original\": \"PR\",\n",
    "                    \"residentialstatus1\": \"PR\",\n",
    "                    \"residentialstatus\": \"Singaporean\",\n",
    "                    \"residentialstatus.original\": \"Singaporean\"\n",
    "                }\n",
    "            },\n",
    "            {\n",
    "                \"name\": \"projects/singapore-ea8de/agent/sessions/b1d2e853-6186-4101-9f77-ad835d6e9493/contexts/salaryyes2500\",\n",
    "                \"parameters\": {\n",
    "                    \"residentialstatus1.original\": \"PR\",\n",
    "                    \"residentialstatus1\": \"PR\",\n",
    "                    \"residentialstatus\": \"Singaporean\",\n",
    "                    \"residentialstatus.original\": \"Singaporean\"\n",
    "                }\n",
    "            },\n",
    "            {\n",
    "                \"name\": \"projects/singapore-ea8de/agent/sessions/b1d2e853-6186-4101-9f77-ad835d6e9493/contexts/generic\",\n",
    "                \"lifespanCount\": 4,\n",
    "                \"parameters\": {\n",
    "                    \"phone-number\": \"09302902092\",\n",
    "                    \"dateofbirth\": \"1981-01-02T12:00:00+08:00\",\n",
    "                    \"residentialstatus1.original\": \"PR\",\n",
    "                    \"email.original\": \"kiaan@solanki.cc\",\n",
    "                    \"dateofbirth.original\": \"02 Jan 1981\",\n",
    "                    \"user-fullname.original\": \"Jatin Solanki\",\n",
    "                    \"product\": \"personal loan\",\n",
    "                    \"phone-number.original\": \"09302902092\",\n",
    "                    \"privacypolicyyes\": \"\",\n",
    "                    \"residentialstatus\": \"Singaporean\",\n",
    "                    \"residentialstatus.original\": \"Singaporean\",\n",
    "                    \"product.original\": \"Broadband\",\n",
    "                    \"privacypolicyyes.original\": \"\",\n",
    "                    \"residentialstatus1\": \"PR\",\n",
    "                    \"user-fullname\": {\n",
    "                        \"user-name\": \"Jatin\",\n",
    "                        \"user-name.original\": \"Jatin\",\n",
    "                        \"user-name.object\": {},\n",
    "                        \"user-lastname\": \"Solanki\",\n",
    "                        \"user-lastname.original\": \"Solanki\",\n",
    "                        \"user-lastname.object\": {}\n",
    "                    },\n",
    "                    \"facebook_sender_id\": \"1908210709258420\",\n",
    "                    \"email\": \"kiaan@solanki.cc\"\n",
    "                }\n",
    "            }\n",
    "        ],\n",
    "        \"intent\": {\n",
    "            \"name\": \"projects/singapore-ea8de/agent/intents/89d94ac3-7b83-4e85-8c7f-895b4887f27d\",\n",
    "            \"displayName\": \"personal loan - questions - singaporean - salary 2500\"\n",
    "        },\n",
    "        \"intentDetectionConfidence\": 1,\n",
    "        \"diagnosticInfo\": {\n",
    "            \"end_conversation\": True\n",
    "        },\n",
    "        \"languageCode\": \"en\"\n",
    "    },\n",
    "    \"originalDetectIntentRequest\": {\n",
    "        \"source\": \"facebook\",\n",
    "        \"payload\": {\n",
    "            \"data\": {\n",
    "                \"postback\": {\n",
    "                    \"payload\": \"Yes\",\n",
    "                    \"title\": \"Yes\"\n",
    "                },\n",
    "                \"sender\": {\n",
    "                    \"id\": \"1908210709258420\"\n",
    "                },\n",
    "                \"recipient\": {\n",
    "                    \"id\": \"1904548619652671\"\n",
    "                },\n",
    "                \"timestamp\": 1538645090777\n",
    "            },\n",
    "            \"source\": \"facebook\"\n",
    "        }\n",
    "    },\n",
    "    \"session\": \"projects/singapore-ea8de/agent/sessions/b1d2e853-6186-4101-9f77-ad835d6e9493\"\n",
    "}"
   ]
  },
  {
   "cell_type": "code",
   "execution_count": 52,
   "metadata": {
    "collapsed": true
   },
   "outputs": [],
   "source": [
    "def webpass():\n",
    "    resp = {\n",
    "    \"responseId\": \"d8165999-9e9a-4f28-8835-97fdbf90dcf2\",\n",
    "    \"queryResult\": {\n",
    "        \"queryText\": \"Yes\",\n",
    "        \"action\": \"personalloan-questions.personalloan-questions-custom.personalloan-questions-singaporean-custom\",\n",
    "        \"parameters\": {},\n",
    "        \"allRequiredParamsPresent\": True,\n",
    "        \"fulfillmentMessages\": [\n",
    "            {\n",
    "                \"text\": {\n",
    "                    \"text\": [\n",
    "                        \"Perfect, thanks for all your information, I've found the best personal loan that fits your requirement and eligibility.\"\n",
    "                    ]\n",
    "                },\n",
    "                \"platform\": \"FACEBOOK\"\n",
    "            },\n",
    "            {\n",
    "                \"card\": {\n",
    "                    \"title\": \"HSBC Personal Loan\",\n",
    "                    \"subtitle\": \"Interest rate: Fixed rate of 4.8% – 9.5% per annum\",\n",
    "                    \"imageUri\": \"https://www.famouslogos.net/images/hsbc-logo.jpg\",\n",
    "                    \"buttons\": [\n",
    "                        {\n",
    "                            \"text\": \"Find Out More\",\n",
    "                            \"postback\": \"https://www.imoney.sg/personal-loan/hsbc/hsbc-personal-loan\"\n",
    "                        },\n",
    "                        {\n",
    "                            \"text\": \"Apply Now\",\n",
    "                            \"postback\": \"http://imoney.rurl.me/HSBCPL01\"\n",
    "                        },\n",
    "                        {\n",
    "                            \"text\": \"More Personal Loans\",\n",
    "                            \"postback\": \"https://www.imoney.sg/personal-loan\"\n",
    "                        }\n",
    "                    ]\n",
    "                },\n",
    "                \"platform\": \"FACEBOOK\"\n",
    "            },\n",
    "            {\n",
    "                \"card\": {\n",
    "                    \"title\": \"HSBC Debt Consolidation Plan\",\n",
    "                    \"subtitle\": \"Interest rate:\\tFlat rate of 4.0% – 5.7% per annum\",\n",
    "                    \"imageUri\": \"https://www.famouslogos.net/images/hsbc-logo.jpg\",\n",
    "                    \"buttons\": [\n",
    "                        {\n",
    "                            \"text\": \"Find Out More\",\n",
    "                            \"postback\": \"https://www.imoney.sg/personal-loan/hsbc/hsbc-debt-consolidation-plan\"\n",
    "                        },\n",
    "                        {\n",
    "                            \"text\": \"Apply Now\",\n",
    "                            \"postback\": \"http://imoney.rurl.me/GDBtrB\"\n",
    "                        },\n",
    "                        {\n",
    "                            \"text\": \"More Personal Loans\",\n",
    "                            \"postback\": \"https://www.imoney.sg/personal-loan\"\n",
    "                        }\n",
    "                    ]\n",
    "                },\n",
    "                \"platform\": \"FACEBOOK\"\n",
    "            },\n",
    "            {\n",
    "                \"card\": {\n",
    "                    \"title\": \"Citibank Ready Credit PayLite\",\n",
    "                    \"subtitle\": \"Interest rate:\\tFixed rate of 4.55% - 5.79% per annum\",\n",
    "                    \"imageUri\": \"https://www.imoney.sg/sites/www.imoney.sg/files/Citi_1.png\",\n",
    "                    \"buttons\": [\n",
    "                        {\n",
    "                            \"text\": \"Find Out More\",\n",
    "                            \"postback\": \"https://www.imoney.sg/personal-loan/citibank/ready-credit-smartcash-paylite\"\n",
    "                        },\n",
    "                        {\n",
    "                            \"text\": \"Apply Now\",\n",
    "                            \"postback\": \"https://goo.gl/JNU3oA\"\n",
    "                        },\n",
    "                        {\n",
    "                            \"text\": \"More Personal Loans\",\n",
    "                            \"postback\": \"https://www.imoney.sg/personal-loan\"\n",
    "                        }\n",
    "                    ]\n",
    "                },\n",
    "                \"platform\": \"FACEBOOK\"\n",
    "            },\n",
    "            {\n",
    "                \"text\": {\n",
    "                    \"text\": [\n",
    "                        \"\"\n",
    "                    ]\n",
    "                }\n",
    "            }\n",
    "        ],\n",
    "        \"outputContexts\": [\n",
    "            {\n",
    "                \"name\": \"projects/singapore-ea8de/agent/sessions/b1d2e853-6186-4101-9f77-ad835d6e9493/contexts/salaryno2500\",\n",
    "                \"parameters\": {\n",
    "                    \"residentialstatus1.original\": \"PR\",\n",
    "                    \"residentialstatus1\": \"PR\",\n",
    "                    \"residentialstatus\": \"Singaporean\",\n",
    "                    \"residentialstatus.original\": \"Singaporean\"\n",
    "                }\n",
    "            },\n",
    "            {\n",
    "                \"name\": \"projects/singapore-ea8de/agent/sessions/b1d2e853-6186-4101-9f77-ad835d6e9493/contexts/salaryyes2500\",\n",
    "                \"parameters\": {\n",
    "                    \"residentialstatus1.original\": \"PR\",\n",
    "                    \"residentialstatus1\": \"PR\",\n",
    "                    \"residentialstatus\": \"Singaporean\",\n",
    "                    \"residentialstatus.original\": \"Singaporean\"\n",
    "                }\n",
    "            },\n",
    "            {\n",
    "                \"name\": \"projects/singapore-ea8de/agent/sessions/b1d2e853-6186-4101-9f77-ad835d6e9493/contexts/generic\",\n",
    "                \"lifespanCount\": 4,\n",
    "                \"parameters\": {\n",
    "                    \"phone-number\": \"09302902092\",\n",
    "                    \"dateofbirth\": \"1981-01-02T12:00:00+08:00\",\n",
    "                    \"residentialstatus1.original\": \"PR\",\n",
    "                    \"email.original\": \"kiaan@solanki.cc\",\n",
    "                    \"dateofbirth.original\": \"02 Jan 1981\",\n",
    "                    \"user-fullname.original\": \"Jatin Solanki\",\n",
    "                    \"product\": \"personal loan\",\n",
    "                    \"phone-number.original\": \"09302902092\",\n",
    "                    \"privacypolicyyes\": \"\",\n",
    "                    \"residentialstatus\": \"Singaporean\",\n",
    "                    \"residentialstatus.original\": \"Singaporean\",\n",
    "                    \"product.original\": \"Personal Loan\",\n",
    "                    \"privacypolicyyes.original\": \"\",\n",
    "                    \"residentialstatus1\": \"PR\",\n",
    "                    \"user-fullname\": {\n",
    "                        \"user-name\": \"Jatin\",\n",
    "                        \"user-name.original\": \"Jatin\",\n",
    "                        \"user-name.object\": {},\n",
    "                        \"user-lastname\": \"Solanki\",\n",
    "                        \"user-lastname.original\": \"Solanki\",\n",
    "                        \"user-lastname.object\": {}\n",
    "                    },\n",
    "                    \"facebook_sender_id\": \"1908210709258420\",\n",
    "                    \"email\": \"kiaan@solanki.cc\"\n",
    "                }\n",
    "            }\n",
    "        ],\n",
    "        \"intent\": {\n",
    "            \"name\": \"projects/singapore-ea8de/agent/intents/89d94ac3-7b83-4e85-8c7f-895b4887f27d\",\n",
    "            \"displayName\": \"personal loan - questions - singaporean - salary 2500\"\n",
    "        },\n",
    "        \"intentDetectionConfidence\": 1,\n",
    "        \"diagnosticInfo\": {\n",
    "            \"end_conversation\": True\n",
    "        },\n",
    "        \"languageCode\": \"en\"\n",
    "    },\n",
    "    \"originalDetectIntentRequest\": {\n",
    "        \"source\": \"facebook\",\n",
    "        \"payload\": {\n",
    "            \"data\": {\n",
    "                \"postback\": {\n",
    "                    \"payload\": \"Yes\",\n",
    "                    \"title\": \"Yes\"\n",
    "                },\n",
    "                \"sender\": {\n",
    "                    \"id\": \"1908210709258420\"\n",
    "                },\n",
    "                \"recipient\": {\n",
    "                    \"id\": \"1904548619652671\"\n",
    "                },\n",
    "                \"timestamp\": 1538645090777\n",
    "            },\n",
    "            \"source\": \"facebook\"\n",
    "        }\n",
    "    },\n",
    "    \"session\": \"projects/singapore-ea8de/agent/sessions/b1d2e853-6186-4101-9f77-ad835d6e9493\"\n",
    "}\n",
    "    i = len(resp['queryResult']['outputContexts'])-1\n",
    "    a = resp['queryResult']['outputContexts'][i]['parameters']['product.original']\n",
    "    b = resp['queryResult']['outputContexts'][i]['parameters']['phone-number']\n",
    "    c = resp['queryResult']['outputContexts'][i]['parameters']['user-fullname']['user-name']+\" \"+resp['queryResult']['outputContexts'][2]['parameters']['user-fullname']['user-lastname']\n",
    "    t = resp['originalDetectIntentRequest']['payload']['data']['timestamp']\n",
    "    newtime = time.strftime(\"%D %H:%M\", time.localtime(int(t)))\n",
    "    \n",
    "    print(a+\" \"+b+\" \"+c+str(t)+\" \"+str(newtime))\n",
    "    \n",
    "    #datetime.datetime.utcfromtimestamp(posix_time).strftime('%Y-%m-%dT%H:%M:%SZ')"
   ]
  },
  {
   "cell_type": "code",
   "execution_count": 54,
   "metadata": {},
   "outputs": [
    {
     "name": "stdout",
     "output_type": "stream",
     "text": [
      "Personal Loan 09302902092 Jatin Solanki1538645090777 09/22/27 14:06\n"
     ]
    }
   ],
   "source": [
    "webpass()"
   ]
  },
  {
   "cell_type": "code",
   "execution_count": 18,
   "metadata": {
    "collapsed": true
   },
   "outputs": [],
   "source": []
  },
  {
   "cell_type": "code",
   "execution_count": 37,
   "metadata": {},
   "outputs": [
    {
     "name": "stdout",
     "output_type": "stream",
     "text": [
      "789\n"
     ]
    }
   ],
   "source": [
    "product = resp['queryResult']['outputContexts'][2]['parameters']['product.original']\n",
    "campaign_name = pd.np.where(\"Personal Loan\" in product,123,\n",
    "                           pd.np.where(\"Credit Card\" in product,456,789))\n",
    "print(campaign_name)"
   ]
  },
  {
   "cell_type": "code",
   "execution_count": 2,
   "metadata": {},
   "outputs": [
    {
     "name": "stdout",
     "output_type": "stream",
     "text": [
      "Here is the status code of the POST 200\n"
     ]
    }
   ],
   "source": [
    "#a = resp['queryResult']['outputContexts'][0]['parameters']['email.original']\n",
    "#b = resp['queryResult']['outputContexts'][0]['parameters']['phone-number']\n",
    "#print(a,b)\n",
    "\n",
    "#curl -d \"merge_vars[name]=jatin&merge_vars[email]=jatin@example.com&merge_vars\n",
    "#[phone]=123456789\" -X POST  http://chatbot.im.my/chatbot\n",
    "import requests\n",
    "url = 'http://apply.imoney.sg/api/save/submission?callback=callback'\n",
    "#url = 'http://chatbot.im.my/chatbot'\n",
    "payload = {'merge_vars[name]':'jatin','merge_vars[email_address]':'jatin@solanki.cc','merge_vars[phone_number]':'982901910','merge_vars[campaign_id]':'5bc3f454abf048b139b9bafe'}\n",
    "headers = {\n",
    "    'Content-type': 'application/json',\n",
    "}\n",
    "r = requests.post(url, data=payload)\n",
    "print(\"Here is the status code of the POST \"+ str(r.status_code))"
   ]
  },
  {
   "cell_type": "code",
   "execution_count": 55,
   "metadata": {
    "scrolled": true
   },
   "outputs": [
    {
     "name": "stdout",
     "output_type": "stream",
     "text": [
      "<google.oauth2.service_account.Credentials object at 0x110bf9310>\n"
     ]
    }
   ],
   "source": [
    "creden = service_account.Credentials.from_service_account_file(\"/Users/imoney/Downloads/Singapore-3dd7affc7e18.json\")"
   ]
  },
  {
   "cell_type": "code",
   "execution_count": 57,
   "metadata": {
    "collapsed": true
   },
   "outputs": [],
   "source": [
    "client = datastore.Client(project='singapore-ea8de',credentials=creden)"
   ]
  },
  {
   "cell_type": "code",
   "execution_count": 167,
   "metadata": {
    "scrolled": false
   },
   "outputs": [
    {
     "ename": "NameError",
     "evalue": "name 'date' is not defined",
     "output_type": "error",
     "traceback": [
      "\u001b[0;31m---------------------------------------------------------------------------\u001b[0m",
      "\u001b[0;31mNameError\u001b[0m                                 Traceback (most recent call last)",
      "\u001b[0;32m<ipython-input-167-82ed3219c405>\u001b[0m in \u001b[0;36m<module>\u001b[0;34m()\u001b[0m\n\u001b[1;32m      6\u001b[0m     \u001b[0;34m'product'\u001b[0m\u001b[0;34m:\u001b[0m \u001b[0;34mu'credit card'\u001b[0m\u001b[0;34m,\u001b[0m\u001b[0;34m\u001b[0m\u001b[0m\n\u001b[1;32m      7\u001b[0m     \u001b[0;34m'japp_status_code'\u001b[0m\u001b[0;34m:\u001b[0m\u001b[0mr\u001b[0m\u001b[0;34m.\u001b[0m\u001b[0mstatus_code\u001b[0m\u001b[0;34m,\u001b[0m\u001b[0;34m\u001b[0m\u001b[0m\n\u001b[0;32m----> 8\u001b[0;31m     \u001b[0;34m'time_stamp'\u001b[0m\u001b[0;34m:\u001b[0m\u001b[0mdate\u001b[0m\u001b[0;34m(\u001b[0m\u001b[0mdatetime\u001b[0m\u001b[0;34m.\u001b[0m\u001b[0mdatetime\u001b[0m\u001b[0;34m.\u001b[0m\u001b[0mnow\u001b[0m\u001b[0;34m(\u001b[0m\u001b[0;34m)\u001b[0m\u001b[0;34m)\u001b[0m\u001b[0;34m\u001b[0m\u001b[0m\n\u001b[0m\u001b[1;32m      9\u001b[0m })\n\u001b[1;32m     10\u001b[0m \u001b[0mclient\u001b[0m\u001b[0;34m.\u001b[0m\u001b[0mput\u001b[0m\u001b[0;34m(\u001b[0m\u001b[0mentity\u001b[0m\u001b[0;34m)\u001b[0m\u001b[0;34m\u001b[0m\u001b[0m\n",
      "\u001b[0;31mNameError\u001b[0m: name 'date' is not defined"
     ]
    }
   ],
   "source": [
    "key = client.key('sg_customers')\n",
    "entity = datastore.Entity(key=key)\n",
    "entity.update({\n",
    "    'email': u'2abc@abc.com',\n",
    "    'phoneNumber': u'98701910121',\n",
    "    'product': u'credit card',\n",
    "    'japp_status_code':r.status_code,\n",
    "    'time_stamp':strf(datetime.datetime.now())\n",
    "})\n",
    "client.put(entity)\n",
    "# Then get by key for this entity\n",
    "#result = client.get(key)\n",
    "#print result"
   ]
  },
  {
   "cell_type": "code",
   "execution_count": 4,
   "metadata": {
    "collapsed": true
   },
   "outputs": [],
   "source": [
    "import urllib, json\n",
    "\n",
    "import requests"
   ]
  },
  {
   "cell_type": "code",
   "execution_count": 59,
   "metadata": {},
   "outputs": [
    {
     "name": "stdout",
     "output_type": "stream",
     "text": [
      "2018-10-15 12:31\n"
     ]
    }
   ],
   "source": [
    "current_timestamp = datetime.datetime.now().strftime(\"%Y-%m-%d %H:%M\")\n",
    "print(current_timestamp)"
   ]
  },
  {
   "cell_type": "code",
   "execution_count": 60,
   "metadata": {
    "collapsed": true
   },
   "outputs": [],
   "source": [
    "name ='Jatin Solanki'\n",
    "email = 'jatin@solanki.cc'\n",
    "phone = '9870192920'\n",
    "campaign = '5bc3f454abf048b139b9bafe'"
   ]
  },
  {
   "cell_type": "code",
   "execution_count": 61,
   "metadata": {},
   "outputs": [
    {
     "name": "stdout",
     "output_type": "stream",
     "text": [
      "Here is the status code of the POST 200\n"
     ]
    }
   ],
   "source": [
    "import requests\n",
    "url = 'http://apply.imoney.sg/api/save/submission?callback=callback'\n",
    "#url = 'http://chatbot.im.my/chatbot'\n",
    "payload = {'merge_vars[name]':name,'merge_vars[email_address]':email,'merge_vars[phone_number]':phone,'merge_vars[campaign_id]':campaign}\n",
    "headers = {\n",
    "    'Content-type': 'application/json',\n",
    "}\n",
    "r = requests.post(url, data=payload)\n",
    "print(\"Here is the status code of the POST \"+ str(r.status_code))"
   ]
  },
  {
   "cell_type": "code",
   "execution_count": 3,
   "metadata": {},
   "outputs": [
    {
     "name": "stdout",
     "output_type": "stream",
     "text": [
      "Index for xyz :  1\n",
      "Index for zara :  2\n"
     ]
    }
   ],
   "source": [
    "aList = [123, 'xyz', 'zara', 'abc'];\n",
    "print \"Index for xyz : \", aList.index( 'xyz' ) \n",
    "print \"Index for zara : \", aList.index( 'zara' ) "
   ]
  },
  {
   "cell_type": "code",
   "execution_count": 34,
   "metadata": {
    "collapsed": true
   },
   "outputs": [],
   "source": [
    "res = resp['queryResult']['outputContexts']"
   ]
  },
  {
   "cell_type": "code",
   "execution_count": 20,
   "metadata": {},
   "outputs": [],
   "source": [
    "key_res = resp.keys()\n",
    "val = res.values()"
   ]
  },
  {
   "cell_type": "code",
   "execution_count": 44,
   "metadata": {},
   "outputs": [
    {
     "data": {
      "text/plain": [
       "2"
      ]
     },
     "execution_count": 44,
     "metadata": {},
     "output_type": "execute_result"
    }
   ],
   "source": [
    "len(res)-1"
   ]
  }
 ],
 "metadata": {
  "kernelspec": {
   "display_name": "Python 2",
   "language": "python",
   "name": "python2"
  },
  "language_info": {
   "codemirror_mode": {
    "name": "ipython",
    "version": 2
   },
   "file_extension": ".py",
   "mimetype": "text/x-python",
   "name": "python",
   "nbconvert_exporter": "python",
   "pygments_lexer": "ipython2",
   "version": "2.7.13"
  }
 },
 "nbformat": 4,
 "nbformat_minor": 2
}
